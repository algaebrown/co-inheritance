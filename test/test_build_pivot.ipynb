{
 "cells": [
  {
   "cell_type": "code",
   "execution_count": 13,
   "metadata": {},
   "outputs": [],
   "source": [
    "import pandas as pd\n",
    "import os\n",
    "import math\n",
    "import numpy as np\n",
    "from scipy.sparse import csr_matrix, lil_matrix\n",
    "\n",
    "def read_diamond(target_genome_blast_result):\n",
    "    df = pd.read_csv(target_genome_blast_result, names = ['qseqid','evalue'], delimiter= '\\t', header = None, index_col = None)\n",
    "\n",
    "    # find best_evalue(smallest is the best)\n",
    "    df.sort_values(by='evalue', axis='index', ascending=True, inplace=True)\n",
    "    df.drop_duplicates(subset='qseqid', keep='first', inplace=True)\n",
    "    return df\n",
    "\n",
    "def best_e_value(df):\n",
    "    \"\"\"\n",
    "    select best e-value for each gene WITHIN each target genome\n",
    "    :param target_genome_blast_result:\n",
    "    :return: best evalue of each gene within the target genome (series)\n",
    "    \"\"\"\n",
    "    \n",
    "    # find smallest e_value among gene that is not zero (for log transform later)\n",
    "    smallest_e_value = df.loc[df['evalue'] != 0]['evalue'].min()  # the dataframe is sorted\n",
    "\n",
    "    return smallest_e_value\n",
    "def diamond_to_pivot(target_path, tid, gid):\n",
    "    \n",
    "    # initialize sparse matrix\n",
    "    ma = lil_matrix((len(gid), len(tid)))\n",
    "    # initialize normalization factor (second best evalue)\n",
    "    sec_best_eval = 1\n",
    "    \n",
    "    target_files = os.listdir(target_path)\n",
    "    for file in target_files:\n",
    "        df = read_diamond(os.path.join(target_path, file))\n",
    "        # change to gene id\n",
    "        df['gid'] = df['qseqid'].map(gid)\n",
    "        df.dropna(subset = ['gid'], inplace = True)\n",
    "        df['gid'] = df['gid'].astype(int)\n",
    "        \n",
    "        # target id\n",
    "        target_id = tid[file]\n",
    "        \n",
    "        log_eval = -np.log(df['evalue']) #np.inf means evalue is 0\n",
    "        ma[df['gid'].tolist(), target_id] = log_eval.tolist() # store negative log to prevent underflow :)\n",
    "        \n",
    "        # best_evl\n",
    "        local_best_eval = best_e_value(df)\n",
    "        if local_best_eval < sec_best_eval:\n",
    "            sec_best_eval = local_best_eval\n",
    "        \n",
    "    # normalize by sec best\n",
    "    ma = ma/(-np.log(sec_best_eval))\n",
    "        \n",
    "    # replace inf with 1\n",
    "    npm = ma.toarray()\n",
    "    npm[np.where(npm == np.inf)] = 1\n",
    "        \n",
    "    ma = lil_matrix(npm)\n",
    "        \n",
    "    return ma, sec_best_eval\n",
    "def discretize(ma, bins = 100):\n",
    "    # convert to csr matrix and qcut\n",
    "    csr = m.tocsr()\n",
    "    q = pd.qcut(csr.data, q = bins, labels = False, duplicates = 'drop')\n",
    "    \n",
    "    # create a new csr matrix\n",
    "    binned = csr_matrix((q, csr.indices, csr.indptr))\n",
    "    \n",
    "    return binned\n",
    "\n",
    "    \n"
   ]
  },
  {
   "cell_type": "code",
   "execution_count": 14,
   "metadata": {},
   "outputs": [
    {
     "name": "stderr",
     "output_type": "stream",
     "text": [
      "/home/hermuba/miniconda3/lib/python3.6/site-packages/pandas/core/series.py:679: RuntimeWarning: divide by zero encountered in log\n",
      "  result = getattr(ufunc, method)(*inputs, **kwargs)\n"
     ]
    }
   ],
   "source": [
    "import pickle\n",
    "with open('../test_data/gene_id.pickle', 'rb') as f:\n",
    "    gid = pickle.load(f)\n",
    "\n",
    "with open('../test_data/genome_id.pickle', 'rb') as f:\n",
    "    tid = pickle.load(f)\n",
    "m, e = diamond_to_pivot('../test_data/diamond_results', tid, gid)\n",
    "binned = discretize(m, bins = 10)"
   ]
  },
  {
   "cell_type": "code",
   "execution_count": 9,
   "metadata": {},
   "outputs": [
    {
     "data": {
      "text/plain": [
       "0.0"
      ]
     },
     "execution_count": 9,
     "metadata": {},
     "output_type": "execute_result"
    }
   ],
   "source": [
    "np.nansum(m.toarray())"
   ]
  },
  {
   "cell_type": "code",
   "execution_count": 8,
   "metadata": {},
   "outputs": [
    {
     "data": {
      "text/plain": [
       "1"
      ]
     },
     "execution_count": 8,
     "metadata": {},
     "output_type": "execute_result"
    }
   ],
   "source": []
  },
  {
   "cell_type": "code",
   "execution_count": 15,
   "metadata": {},
   "outputs": [
    {
     "data": {
      "text/plain": [
       "<matplotlib.axes._subplots.AxesSubplot at 0x7f14748e6198>"
      ]
     },
     "execution_count": 15,
     "metadata": {},
     "output_type": "execute_result"
    },
    {
     "data": {
      "image/png": "[encoded data removed]",
      "text/plain": [
       "<Figure size 432x288 with 2 Axes>"
      ]
     },
     "metadata": {
      "needs_background": "light"
     },
     "output_type": "display_data"
    }
   ],
   "source": [
    "import seaborn as sns\n",
    "sns.heatmap(binned.toarray())"
   ]
  },
  {
   "cell_type": "code",
   "execution_count": null,
   "metadata": {},
   "outputs": [],
   "source": []
  }
 ],
 "metadata": {
  "kernelspec": {
   "display_name": "Python 3",
   "language": "python",
   "name": "python3"
  },
  "language_info": {
   "codemirror_mode": {
    "name": "ipython",
    "version": 3
   },
   "file_extension": ".py",
   "mimetype": "text/x-python",
   "name": "python",
   "nbconvert_exporter": "python",
   "pygments_lexer": "ipython3",
   "version": "3.6.10"
  }
 },
 "nbformat": 4,
 "nbformat_minor": 4
}
