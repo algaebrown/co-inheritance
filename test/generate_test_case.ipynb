{
 "cells": [
  {
   "cell_type": "code",
   "execution_count": 4,
   "metadata": {},
   "outputs": [],
   "source": [
    "# sample reference genomes\n",
    "import os\n",
    "import random\n",
    "all_targets = os.listdir('/home/hermuba/data0118/refseq/prokaryotes/faa')\n",
    "all_targets = [f for f in all_targets if f.endswith('faa')]\n",
    "selected = random.sample(all_targets, 50)"
   ]
  },
  {
   "cell_type": "code",
   "execution_count": 6,
   "metadata": {},
   "outputs": [],
   "source": [
    "import shutil\n",
    "indir='/home/hermuba/data0118/refseq/prokaryotes/faa'\n",
    "outdir='/home/hermuba/co-inheritance/test_data/target_genomes'\n",
    "for s in selected:\n",
    "    shutil.copyfile(os.path.join(indir, s), os.path.join(outdir, s))"
   ]
  },
  {
   "cell_type": "code",
   "execution_count": 7,
   "metadata": {},
   "outputs": [],
   "source": [
    "# sample genes and get its faa file\n",
    "import pandas as pd\n",
    "gold_anno = pd.read_pickle('/home/hermuba/data0118/goldstandard/ec_rmplasmid_node_anno_df')"
   ]
  },
  {
   "cell_type": "code",
   "execution_count": 11,
   "metadata": {},
   "outputs": [],
   "source": [
    "# select only genes with GO term\n",
    "subset_with_anno = gold_anno.loc[(gold_anno['GO'].notnull()) & (gold_anno['cog_ID'].notnull())]"
   ]
  },
  {
   "cell_type": "code",
   "execution_count": 12,
   "metadata": {},
   "outputs": [
    {
     "data": {
      "text/html": [
       "<div>\n",
       "<style scoped>\n",
       "    .dataframe tbody tr th:only-of-type {\n",
       "        vertical-align: middle;\n",
       "    }\n",
       "\n",
       "    .dataframe tbody tr th {\n",
       "        vertical-align: top;\n",
       "    }\n",
       "\n",
       "    .dataframe thead th {\n",
       "        text-align: right;\n",
       "    }\n",
       "</style>\n",
       "<table border=\"1\" class=\"dataframe\">\n",
       "  <thead>\n",
       "    <tr style=\"text-align: right;\">\n",
       "      <th></th>\n",
       "      <th>cog_ID</th>\n",
       "      <th>cog_category</th>\n",
       "      <th>cluster</th>\n",
       "      <th>count</th>\n",
       "      <th>core</th>\n",
       "      <th>loose_best_ARO</th>\n",
       "      <th>loose_ARO</th>\n",
       "      <th>strict_best_ARO</th>\n",
       "      <th>strict_ARO</th>\n",
       "      <th>is_card</th>\n",
       "      <th>resfam</th>\n",
       "      <th>aclame_title</th>\n",
       "      <th>is_aclame</th>\n",
       "      <th>nr</th>\n",
       "      <th>hypo_nr</th>\n",
       "      <th>drug_target</th>\n",
       "      <th>is_drug_target</th>\n",
       "      <th>GO</th>\n",
       "      <th>pathway</th>\n",
       "      <th>domain</th>\n",
       "    </tr>\n",
       "  </thead>\n",
       "  <tbody>\n",
       "    <tr>\n",
       "      <th>562.10576.con.0002_214|562.10576</th>\n",
       "      <td>COG1309</td>\n",
       "      <td>K</td>\n",
       "      <td>Cluster 14599</td>\n",
       "      <td>1579.0</td>\n",
       "      <td>True</td>\n",
       "      <td>NaN</td>\n",
       "      <td>NaN</td>\n",
       "      <td>NaN</td>\n",
       "      <td>NaN</td>\n",
       "      <td>False</td>\n",
       "      <td>NaN</td>\n",
       "      <td>NaN</td>\n",
       "      <td>False</td>\n",
       "      <td>EHO00211.1 HTH-type transcriptional repressor ...</td>\n",
       "      <td>NaN</td>\n",
       "      <td>NaN</td>\n",
       "      <td>False</td>\n",
       "      <td>{GO:0003677}</td>\n",
       "      <td>NaN</td>\n",
       "      <td>{IPR036271, IPR011075, IPR009057, IPR001647}</td>\n",
       "    </tr>\n",
       "    <tr>\n",
       "      <th>562.10576.con.0002_294|562.10576</th>\n",
       "      <td>COG4977</td>\n",
       "      <td>K</td>\n",
       "      <td>Cluster 8059</td>\n",
       "      <td>27.0</td>\n",
       "      <td>False</td>\n",
       "      <td>NaN</td>\n",
       "      <td>NaN</td>\n",
       "      <td>NaN</td>\n",
       "      <td>NaN</td>\n",
       "      <td>False</td>\n",
       "      <td>{marA, ramA}</td>\n",
       "      <td>protein:plasmid:29688 Length: 328 # NCBI annot...</td>\n",
       "      <td>True</td>\n",
       "      <td>EHN91178.1 hypothetical protein ESNG_03889 [Es...</td>\n",
       "      <td>True</td>\n",
       "      <td>NaN</td>\n",
       "      <td>False</td>\n",
       "      <td>{GO:0003677, GO:0006355, GO:0003700, GO:0043565}</td>\n",
       "      <td>{Reactome: R-HSA-3899300}</td>\n",
       "      <td>{IPR029062, IPR018060, IPR009057, IPR002818}</td>\n",
       "    </tr>\n",
       "    <tr>\n",
       "      <th>562.10576.con.0004_152|562.10576</th>\n",
       "      <td>COG0385</td>\n",
       "      <td>R</td>\n",
       "      <td>Cluster 4577</td>\n",
       "      <td>1.0</td>\n",
       "      <td>False</td>\n",
       "      <td>NaN</td>\n",
       "      <td>NaN</td>\n",
       "      <td>NaN</td>\n",
       "      <td>NaN</td>\n",
       "      <td>False</td>\n",
       "      <td>NaN</td>\n",
       "      <td>protein:plasmid:128244 Length: 277 # NCBI anno...</td>\n",
       "      <td>True</td>\n",
       "      <td>WP_061092939.1 bile acid:sodium symporter fami...</td>\n",
       "      <td>NaN</td>\n",
       "      <td>NaN</td>\n",
       "      <td>False</td>\n",
       "      <td>{GO:0016020}</td>\n",
       "      <td>NaN</td>\n",
       "      <td>{IPR002657, IPR038770}</td>\n",
       "    </tr>\n",
       "    <tr>\n",
       "      <th>562.10576.con.0004_153|562.10576</th>\n",
       "      <td>COG3246</td>\n",
       "      <td>S</td>\n",
       "      <td>Cluster 11302</td>\n",
       "      <td>1.0</td>\n",
       "      <td>False</td>\n",
       "      <td>NaN</td>\n",
       "      <td>NaN</td>\n",
       "      <td>NaN</td>\n",
       "      <td>NaN</td>\n",
       "      <td>False</td>\n",
       "      <td>NaN</td>\n",
       "      <td>protein:plasmid:17531 Length: 296 # NCBI annot...</td>\n",
       "      <td>True</td>\n",
       "      <td>WP_061092938.1 3-keto-5-aminohexanoate cleavag...</td>\n",
       "      <td>NaN</td>\n",
       "      <td>NaN</td>\n",
       "      <td>False</td>\n",
       "      <td>{GO:0003824, GO:0016740, GO:0019475}</td>\n",
       "      <td>{KEGG: 00310+2.3.1.247}</td>\n",
       "      <td>{IPR008567, IPR013785}</td>\n",
       "    </tr>\n",
       "    <tr>\n",
       "      <th>562.10576.con.0004_155|562.10576</th>\n",
       "      <td>COG1349</td>\n",
       "      <td>K</td>\n",
       "      <td>Cluster 11406</td>\n",
       "      <td>1.0</td>\n",
       "      <td>False</td>\n",
       "      <td>NaN</td>\n",
       "      <td>NaN</td>\n",
       "      <td>NaN</td>\n",
       "      <td>NaN</td>\n",
       "      <td>False</td>\n",
       "      <td>NaN</td>\n",
       "      <td>protein:plasmid:16029 Length: 253 # NCBI annot...</td>\n",
       "      <td>True</td>\n",
       "      <td>WP_061092936.1 DeoR/GlpR transcriptional regul...</td>\n",
       "      <td>NaN</td>\n",
       "      <td>NaN</td>\n",
       "      <td>False</td>\n",
       "      <td>{GO:0003700, GO:0006355}</td>\n",
       "      <td>NaN</td>\n",
       "      <td>{IPR036390, IPR014036, IPR018356, IPR036388, I...</td>\n",
       "    </tr>\n",
       "  </tbody>\n",
       "</table>\n",
       "</div>"
      ],
      "text/plain": [
       "                                   cog_ID cog_category        cluster   count  \\\n",
       "562.10576.con.0002_214|562.10576  COG1309            K  Cluster 14599  1579.0   \n",
       "562.10576.con.0002_294|562.10576  COG4977            K   Cluster 8059    27.0   \n",
       "562.10576.con.0004_152|562.10576  COG0385            R   Cluster 4577     1.0   \n",
       "562.10576.con.0004_153|562.10576  COG3246            S  Cluster 11302     1.0   \n",
       "562.10576.con.0004_155|562.10576  COG1349            K  Cluster 11406     1.0   \n",
       "\n",
       "                                   core loose_best_ARO loose_ARO  \\\n",
       "562.10576.con.0002_214|562.10576   True            NaN       NaN   \n",
       "562.10576.con.0002_294|562.10576  False            NaN       NaN   \n",
       "562.10576.con.0004_152|562.10576  False            NaN       NaN   \n",
       "562.10576.con.0004_153|562.10576  False            NaN       NaN   \n",
       "562.10576.con.0004_155|562.10576  False            NaN       NaN   \n",
       "\n",
       "                                 strict_best_ARO strict_ARO  is_card  \\\n",
       "562.10576.con.0002_214|562.10576             NaN        NaN    False   \n",
       "562.10576.con.0002_294|562.10576             NaN        NaN    False   \n",
       "562.10576.con.0004_152|562.10576             NaN        NaN    False   \n",
       "562.10576.con.0004_153|562.10576             NaN        NaN    False   \n",
       "562.10576.con.0004_155|562.10576             NaN        NaN    False   \n",
       "\n",
       "                                        resfam  \\\n",
       "562.10576.con.0002_214|562.10576           NaN   \n",
       "562.10576.con.0002_294|562.10576  {marA, ramA}   \n",
       "562.10576.con.0004_152|562.10576           NaN   \n",
       "562.10576.con.0004_153|562.10576           NaN   \n",
       "562.10576.con.0004_155|562.10576           NaN   \n",
       "\n",
       "                                                                       aclame_title  \\\n",
       "562.10576.con.0002_214|562.10576                                                NaN   \n",
       "562.10576.con.0002_294|562.10576  protein:plasmid:29688 Length: 328 # NCBI annot...   \n",
       "562.10576.con.0004_152|562.10576  protein:plasmid:128244 Length: 277 # NCBI anno...   \n",
       "562.10576.con.0004_153|562.10576  protein:plasmid:17531 Length: 296 # NCBI annot...   \n",
       "562.10576.con.0004_155|562.10576  protein:plasmid:16029 Length: 253 # NCBI annot...   \n",
       "\n",
       "                                  is_aclame  \\\n",
       "562.10576.con.0002_214|562.10576      False   \n",
       "562.10576.con.0002_294|562.10576       True   \n",
       "562.10576.con.0004_152|562.10576       True   \n",
       "562.10576.con.0004_153|562.10576       True   \n",
       "562.10576.con.0004_155|562.10576       True   \n",
       "\n",
       "                                                                                 nr  \\\n",
       "562.10576.con.0002_214|562.10576  EHO00211.1 HTH-type transcriptional repressor ...   \n",
       "562.10576.con.0002_294|562.10576  EHN91178.1 hypothetical protein ESNG_03889 [Es...   \n",
       "562.10576.con.0004_152|562.10576  WP_061092939.1 bile acid:sodium symporter fami...   \n",
       "562.10576.con.0004_153|562.10576  WP_061092938.1 3-keto-5-aminohexanoate cleavag...   \n",
       "562.10576.con.0004_155|562.10576  WP_061092936.1 DeoR/GlpR transcriptional regul...   \n",
       "\n",
       "                                 hypo_nr drug_target  is_drug_target  \\\n",
       "562.10576.con.0002_214|562.10576     NaN         NaN           False   \n",
       "562.10576.con.0002_294|562.10576    True         NaN           False   \n",
       "562.10576.con.0004_152|562.10576     NaN         NaN           False   \n",
       "562.10576.con.0004_153|562.10576     NaN         NaN           False   \n",
       "562.10576.con.0004_155|562.10576     NaN         NaN           False   \n",
       "\n",
       "                                                                                GO  \\\n",
       "562.10576.con.0002_214|562.10576                                      {GO:0003677}   \n",
       "562.10576.con.0002_294|562.10576  {GO:0003677, GO:0006355, GO:0003700, GO:0043565}   \n",
       "562.10576.con.0004_152|562.10576                                      {GO:0016020}   \n",
       "562.10576.con.0004_153|562.10576              {GO:0003824, GO:0016740, GO:0019475}   \n",
       "562.10576.con.0004_155|562.10576                          {GO:0003700, GO:0006355}   \n",
       "\n",
       "                                                    pathway  \\\n",
       "562.10576.con.0002_214|562.10576                        NaN   \n",
       "562.10576.con.0002_294|562.10576  {Reactome: R-HSA-3899300}   \n",
       "562.10576.con.0004_152|562.10576                        NaN   \n",
       "562.10576.con.0004_153|562.10576    {KEGG: 00310+2.3.1.247}   \n",
       "562.10576.con.0004_155|562.10576                        NaN   \n",
       "\n",
       "                                                                             domain  \n",
       "562.10576.con.0002_214|562.10576       {IPR036271, IPR011075, IPR009057, IPR001647}  \n",
       "562.10576.con.0002_294|562.10576       {IPR029062, IPR018060, IPR009057, IPR002818}  \n",
       "562.10576.con.0004_152|562.10576                             {IPR002657, IPR038770}  \n",
       "562.10576.con.0004_153|562.10576                             {IPR008567, IPR013785}  \n",
       "562.10576.con.0004_155|562.10576  {IPR036390, IPR014036, IPR018356, IPR036388, I...  "
      ]
     },
     "execution_count": 12,
     "metadata": {},
     "output_type": "execute_result"
    }
   ],
   "source": [
    "subset_with_anno.head()"
   ]
  },
  {
   "cell_type": "code",
   "execution_count": 14,
   "metadata": {},
   "outputs": [],
   "source": [
    "# get those cogs that are small enough that it's easy to benchmark\n",
    "cog_counts = subset_with_anno['cog_ID'].value_counts()"
   ]
  },
  {
   "cell_type": "code",
   "execution_count": 18,
   "metadata": {},
   "outputs": [
    {
     "data": {
      "text/plain": [
       "COG2814    52\n",
       "Name: cog_ID, dtype: int64"
      ]
     },
     "execution_count": 18,
     "metadata": {},
     "output_type": "execute_result"
    }
   ],
   "source": [
    "cog_counts[(cog_counts<60) & (cog_counts>50)]"
   ]
  },
  {
   "cell_type": "code",
   "execution_count": 19,
   "metadata": {},
   "outputs": [],
   "source": [
    "import networkx as nx\n",
    "def read_edge(net_name):\n",
    "    path = '/home/hermuba/data0118/network1122/'\n",
    "    filename = path + net_name + '_lls_rm_plasmid_edgelist'\n",
    "    \n",
    "    # skip first line header!!\n",
    "    with open(filename, 'rb') as f:\n",
    "      \n",
    "        net = nx.read_edgelist(f, nodetype = str, comments = '#')\n",
    "    return(net)\n",
    "\n",
    "\n",
    "refseq = read_edge('refseq')\n"
   ]
  },
  {
   "cell_type": "code",
   "execution_count": 22,
   "metadata": {},
   "outputs": [],
   "source": [
    "small_subgraphs = [c for c in sorted(nx.connected_components(refseq), key=len, reverse=True) if len(c) == 10]"
   ]
  },
  {
   "cell_type": "code",
   "execution_count": 26,
   "metadata": {},
   "outputs": [],
   "source": [
    "with_anno = []\n",
    "for subgraph_nodes in small_subgraphs:\n",
    "    if gold_anno.loc[list(subgraph_nodes), 'GO'].count() > 7:\n",
    "        with_anno.extend(list(subgraph_nodes))"
   ]
  },
  {
   "cell_type": "code",
   "execution_count": 29,
   "metadata": {},
   "outputs": [
    {
     "data": {
      "text/plain": [
       "50"
      ]
     },
     "execution_count": 29,
     "metadata": {},
     "output_type": "execute_result"
    }
   ],
   "source": [
    "#selected 50 genes\n",
    "len(with_anno)"
   ]
  },
  {
   "cell_type": "code",
   "execution_count": 32,
   "metadata": {},
   "outputs": [],
   "source": [
    "# select faa\n",
    "from Bio import SeqIO\n",
    "selected_records = []\n",
    "with open('/home/hermuba/data0118/cdhit/Escherichia0.70rm_plasmid', 'r') as f:\n",
    "    for record in SeqIO.parse(f, 'fasta'):\n",
    "        if record.id in with_anno:\n",
    "            selected_records.append(record)\n",
    "        \n",
    "        "
   ]
  },
  {
   "cell_type": "code",
   "execution_count": 35,
   "metadata": {},
   "outputs": [
    {
     "data": {
      "text/plain": [
       "50"
      ]
     },
     "execution_count": 35,
     "metadata": {},
     "output_type": "execute_result"
    }
   ],
   "source": [
    "SeqIO.write(selected_records, '../test_data/seqs.faa', 'fasta')\n",
    "   "
   ]
  },
  {
   "cell_type": "code",
   "execution_count": 37,
   "metadata": {},
   "outputs": [],
   "source": [
    "# also export annotation\n",
    "gold_anno.loc[with_anno, ['nr', 'cog_ID', 'cog_category', 'GO', 'pathway']].to_csv('../test_data/gene_anno.csv')"
   ]
  },
  {
   "cell_type": "code",
   "execution_count": null,
   "metadata": {},
   "outputs": [],
   "source": []
  }
 ],
 "metadata": {
  "kernelspec": {
   "display_name": "Python 3",
   "language": "python",
   "name": "python3"
  },
  "language_info": {
   "codemirror_mode": {
    "name": "ipython",
    "version": 3
   },
   "file_extension": ".py",
   "mimetype": "text/x-python",
   "name": "python",
   "nbconvert_exporter": "python",
   "pygments_lexer": "ipython3",
   "version": "3.6.12"
  }
 },
 "nbformat": 4,
 "nbformat_minor": 4
}
