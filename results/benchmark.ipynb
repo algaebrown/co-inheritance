{
 "cells": [
  {
   "cell_type": "markdown",
   "metadata": {},
   "source": [
    "# Read in the Mutual Information Score"
   ]
  },
  {
   "cell_type": "code",
   "execution_count": 1,
   "metadata": {},
   "outputs": [],
   "source": [
    "import pandas as pd\n",
    "mutual_info = pd.read_csv('../test_data/mutual_info.csv')"
   ]
  },
  {
   "cell_type": "code",
   "execution_count": 2,
   "metadata": {},
   "outputs": [
    {
     "data": {
      "text/html": [
       "<div>\n",
       "<style scoped>\n",
       "    .dataframe tbody tr th:only-of-type {\n",
       "        vertical-align: middle;\n",
       "    }\n",
       "\n",
       "    .dataframe tbody tr th {\n",
       "        vertical-align: top;\n",
       "    }\n",
       "\n",
       "    .dataframe thead th {\n",
       "        text-align: right;\n",
       "    }\n",
       "</style>\n",
       "<table border=\"1\" class=\"dataframe\">\n",
       "  <thead>\n",
       "    <tr style=\"text-align: right;\">\n",
       "      <th></th>\n",
       "      <th>Unnamed: 0</th>\n",
       "      <th>gene_one</th>\n",
       "      <th>gene_two</th>\n",
       "      <th>mutual_info</th>\n",
       "    </tr>\n",
       "  </thead>\n",
       "  <tbody>\n",
       "    <tr>\n",
       "      <th>0</th>\n",
       "      <td>0</td>\n",
       "      <td>0</td>\n",
       "      <td>1</td>\n",
       "      <td>0.001303</td>\n",
       "    </tr>\n",
       "    <tr>\n",
       "      <th>1</th>\n",
       "      <td>1</td>\n",
       "      <td>0</td>\n",
       "      <td>2</td>\n",
       "      <td>0.060653</td>\n",
       "    </tr>\n",
       "    <tr>\n",
       "      <th>2</th>\n",
       "      <td>2</td>\n",
       "      <td>0</td>\n",
       "      <td>3</td>\n",
       "      <td>0.000859</td>\n",
       "    </tr>\n",
       "    <tr>\n",
       "      <th>3</th>\n",
       "      <td>3</td>\n",
       "      <td>0</td>\n",
       "      <td>4</td>\n",
       "      <td>0.000859</td>\n",
       "    </tr>\n",
       "    <tr>\n",
       "      <th>4</th>\n",
       "      <td>4</td>\n",
       "      <td>0</td>\n",
       "      <td>5</td>\n",
       "      <td>0.000859</td>\n",
       "    </tr>\n",
       "  </tbody>\n",
       "</table>\n",
       "</div>"
      ],
      "text/plain": [
       "   Unnamed: 0  gene_one  gene_two  mutual_info\n",
       "0           0         0         1     0.001303\n",
       "1           1         0         2     0.060653\n",
       "2           2         0         3     0.000859\n",
       "3           3         0         4     0.000859\n",
       "4           4         0         5     0.000859"
      ]
     },
     "execution_count": 2,
     "metadata": {},
     "output_type": "execute_result"
    }
   ],
   "source": [
    "mutual_info.head()"
   ]
  },
  {
   "cell_type": "markdown",
   "metadata": {},
   "source": [
    "# Read in the gene annotation to access the quality of network"
   ]
  },
  {
   "cell_type": "code",
   "execution_count": 3,
   "metadata": {},
   "outputs": [],
   "source": [
    "gene_anno = pd.read_csv('../test_data/gene_anno.csv', index_col = 0)"
   ]
  },
  {
   "cell_type": "code",
   "execution_count": 4,
   "metadata": {},
   "outputs": [],
   "source": [
    "import pickle\n",
    "with open('../test_data/gene_id.pickle', 'rb') as f:\n",
    "    gid = pickle.load(f)"
   ]
  },
  {
   "cell_type": "code",
   "execution_count": 5,
   "metadata": {},
   "outputs": [],
   "source": [
    "gene_anno['gene_id'] = gene_anno.index.map(gid)"
   ]
  },
  {
   "cell_type": "code",
   "execution_count": 6,
   "metadata": {},
   "outputs": [
    {
     "data": {
      "text/html": [
       "<div>\n",
       "<style scoped>\n",
       "    .dataframe tbody tr th:only-of-type {\n",
       "        vertical-align: middle;\n",
       "    }\n",
       "\n",
       "    .dataframe tbody tr th {\n",
       "        vertical-align: top;\n",
       "    }\n",
       "\n",
       "    .dataframe thead th {\n",
       "        text-align: right;\n",
       "    }\n",
       "</style>\n",
       "<table border=\"1\" class=\"dataframe\">\n",
       "  <thead>\n",
       "    <tr style=\"text-align: right;\">\n",
       "      <th></th>\n",
       "      <th>nr</th>\n",
       "      <th>cog_ID</th>\n",
       "      <th>cog_category</th>\n",
       "      <th>GO</th>\n",
       "      <th>pathway</th>\n",
       "      <th>gene_id</th>\n",
       "    </tr>\n",
       "  </thead>\n",
       "  <tbody>\n",
       "    <tr>\n",
       "      <th>562.10576.con.0004_41|562.10576</th>\n",
       "      <td>WP_000610758.1 fimbrial protein [Escherichia c...</td>\n",
       "      <td>COG3539</td>\n",
       "      <td>NU</td>\n",
       "      <td>{'GO:0009289', 'GO:0007155'}</td>\n",
       "      <td>NaN</td>\n",
       "      <td>18</td>\n",
       "    </tr>\n",
       "    <tr>\n",
       "      <th>562.22909.con.0007_46|562.22909</th>\n",
       "      <td>WP_003582778.1 MULTISPECIES: fimbrial family p...</td>\n",
       "      <td>NaN</td>\n",
       "      <td>NaN</td>\n",
       "      <td>NaN</td>\n",
       "      <td>NaN</td>\n",
       "      <td>14</td>\n",
       "    </tr>\n",
       "    <tr>\n",
       "      <th>562.23190.con.0020_64|562.23190</th>\n",
       "      <td>WP_021581152.1 hypothetical protein [Escherich...</td>\n",
       "      <td>NaN</td>\n",
       "      <td>NaN</td>\n",
       "      <td>{'GO:0009289', 'GO:0007155'}</td>\n",
       "      <td>NaN</td>\n",
       "      <td>39</td>\n",
       "    </tr>\n",
       "    <tr>\n",
       "      <th>NMWW01000041_2|562.19090</th>\n",
       "      <td>WP_000733565.1 MULTISPECIES: hypothetical prot...</td>\n",
       "      <td>NaN</td>\n",
       "      <td>NaN</td>\n",
       "      <td>{'GO:0009289', 'GO:0007155'}</td>\n",
       "      <td>NaN</td>\n",
       "      <td>30</td>\n",
       "    </tr>\n",
       "    <tr>\n",
       "      <th>JMVG01000019_151|1438678.3</th>\n",
       "      <td>WP_001402787.1 MULTISPECIES: hypothetical prot...</td>\n",
       "      <td>NaN</td>\n",
       "      <td>NaN</td>\n",
       "      <td>NaN</td>\n",
       "      <td>NaN</td>\n",
       "      <td>23</td>\n",
       "    </tr>\n",
       "  </tbody>\n",
       "</table>\n",
       "</div>"
      ],
      "text/plain": [
       "                                                                                nr  \\\n",
       "562.10576.con.0004_41|562.10576  WP_000610758.1 fimbrial protein [Escherichia c...   \n",
       "562.22909.con.0007_46|562.22909  WP_003582778.1 MULTISPECIES: fimbrial family p...   \n",
       "562.23190.con.0020_64|562.23190  WP_021581152.1 hypothetical protein [Escherich...   \n",
       "NMWW01000041_2|562.19090         WP_000733565.1 MULTISPECIES: hypothetical prot...   \n",
       "JMVG01000019_151|1438678.3       WP_001402787.1 MULTISPECIES: hypothetical prot...   \n",
       "\n",
       "                                  cog_ID cog_category  \\\n",
       "562.10576.con.0004_41|562.10576  COG3539           NU   \n",
       "562.22909.con.0007_46|562.22909      NaN          NaN   \n",
       "562.23190.con.0020_64|562.23190      NaN          NaN   \n",
       "NMWW01000041_2|562.19090             NaN          NaN   \n",
       "JMVG01000019_151|1438678.3           NaN          NaN   \n",
       "\n",
       "                                                           GO  pathway  \\\n",
       "562.10576.con.0004_41|562.10576  {'GO:0009289', 'GO:0007155'}      NaN   \n",
       "562.22909.con.0007_46|562.22909                           NaN      NaN   \n",
       "562.23190.con.0020_64|562.23190  {'GO:0009289', 'GO:0007155'}      NaN   \n",
       "NMWW01000041_2|562.19090         {'GO:0009289', 'GO:0007155'}      NaN   \n",
       "JMVG01000019_151|1438678.3                                NaN      NaN   \n",
       "\n",
       "                                 gene_id  \n",
       "562.10576.con.0004_41|562.10576       18  \n",
       "562.22909.con.0007_46|562.22909       14  \n",
       "562.23190.con.0020_64|562.23190       39  \n",
       "NMWW01000041_2|562.19090              30  \n",
       "JMVG01000019_151|1438678.3            23  "
      ]
     },
     "execution_count": 6,
     "metadata": {},
     "output_type": "execute_result"
    }
   ],
   "source": [
    "gene_anno.head()"
   ]
  },
  {
   "cell_type": "code",
   "execution_count": 7,
   "metadata": {},
   "outputs": [
    {
     "data": {
      "text/plain": [
       "(50, 6)"
      ]
     },
     "execution_count": 7,
     "metadata": {},
     "output_type": "execute_result"
    }
   ],
   "source": [
    "gene_anno.shape"
   ]
  },
  {
   "cell_type": "code",
   "execution_count": 8,
   "metadata": {},
   "outputs": [],
   "source": [
    "gene_anno.set_index('gene_id', inplace = True)"
   ]
  },
  {
   "cell_type": "markdown",
   "metadata": {},
   "source": [
    "# Construct gold standard pair"
   ]
  },
  {
   "cell_type": "code",
   "execution_count": 9,
   "metadata": {},
   "outputs": [],
   "source": [
    "# this toy example is designed to have several GO terms only. "
   ]
  },
  {
   "cell_type": "code",
   "execution_count": 10,
   "metadata": {},
   "outputs": [],
   "source": [
    "gene_go_term = {}\n",
    "for index, row in gene_anno.iterrows():\n",
    "    go_terms = row['GO']\n",
    "    if str(go_terms) == 'nan':\n",
    "        pass\n",
    "    else:\n",
    "        go_terms = go_terms.split(',')\n",
    "        go_terms = [term.replace('{','').replace('}','').replace('\\'','').replace(' ','') for term in go_terms]\n",
    "        \n",
    "        gene_go_term[index] = set(go_terms)"
   ]
  },
  {
   "cell_type": "code",
   "execution_count": 11,
   "metadata": {},
   "outputs": [
    {
     "data": {
      "text/plain": [
       "{18: {'GO:0007155', 'GO:0009289'},\n",
       " 39: {'GO:0007155', 'GO:0009289'},\n",
       " 30: {'GO:0007155', 'GO:0009289'},\n",
       " 19: {'GO:0007155', 'GO:0009289'},\n",
       " 13: {'GO:0007155', 'GO:0009289'},\n",
       " 20: {'GO:0007155', 'GO:0009289'},\n",
       " 12: {'GO:0007155', 'GO:0009289'},\n",
       " 21: {'GO:0007155', 'GO:0009289'},\n",
       " 37: {'GO:0005351', 'GO:0008643', 'GO:0016020'},\n",
       " 46: {'GO:0005351', 'GO:0008643', 'GO:0016020'},\n",
       " 28: {'GO:0005351', 'GO:0008643', 'GO:0016020'},\n",
       " 31: {'GO:0005351', 'GO:0008643', 'GO:0016020'},\n",
       " 29: {'GO:0005351', 'GO:0008643', 'GO:0016020'},\n",
       " 24: {'GO:0005351', 'GO:0008643', 'GO:0016020'},\n",
       " 2: {'GO:0005351', 'GO:0008643', 'GO:0016020'},\n",
       " 34: {'GO:0005351', 'GO:0008643', 'GO:0016020'},\n",
       " 33: {'GO:0005351', 'GO:0008643', 'GO:0016020'},\n",
       " 43: {'GO:0005351', 'GO:0008643', 'GO:0016020'},\n",
       " 44: {'GO:0005515'},\n",
       " 7: {'GO:0005515'},\n",
       " 17: {'GO:0005515'},\n",
       " 25: {'GO:0005515'},\n",
       " 49: {'GO:0005515'},\n",
       " 41: {'GO:0005515'},\n",
       " 6: {'GO:0005515'},\n",
       " 48: {'GO:0005515'},\n",
       " 45: {'GO:0005515'},\n",
       " 38: {'GO:0007155', 'GO:0009289'},\n",
       " 4: {'GO:0007155', 'GO:0009289'},\n",
       " 22: {'GO:0007155', 'GO:0009289'},\n",
       " 15: {'GO:0007155', 'GO:0009289'},\n",
       " 3: {'GO:0007155', 'GO:0009289'},\n",
       " 5: {'GO:0007155', 'GO:0009289'},\n",
       " 0: {'GO:0007155', 'GO:0009289'},\n",
       " 10: {'GO:0007155', 'GO:0009289'},\n",
       " 36: {'GO:0007155', 'GO:0009289'},\n",
       " 11: {'GO:0007155', 'GO:0009289'},\n",
       " 8: {'GO:0003676', 'GO:0015074'},\n",
       " 26: {'GO:0003677'},\n",
       " 16: {'GO:0003676', 'GO:0003677', 'GO:0015074'},\n",
       " 1: {'GO:0003676', 'GO:0003677', 'GO:0015074'},\n",
       " 47: {'GO:0003677'},\n",
       " 27: {'GO:0003676', 'GO:0003677', 'GO:0015074'},\n",
       " 9: {'GO:0003677'},\n",
       " 35: {'GO:0003676', 'GO:0003677', 'GO:0015074'}}"
      ]
     },
     "execution_count": 11,
     "metadata": {},
     "output_type": "execute_result"
    }
   ],
   "source": [
    "gene_go_term"
   ]
  },
  {
   "cell_type": "code",
   "execution_count": 12,
   "metadata": {},
   "outputs": [],
   "source": [
    "# define goldstandard as sharing # of go terms\n",
    "from itertools import combinations\n",
    "n_shared = []\n",
    "for gene_pair in combinations(gene_go_term.keys(), 2):\n",
    "    n_shared_term = len(gene_go_term[gene_pair[0]].intersection(gene_go_term[gene_pair[1]]))\n",
    "    \n",
    "    new_pair = list(gene_pair)\n",
    "    new_pair.sort()\n",
    "    \n",
    "    n_shared.append(new_pair + [n_shared_term])\n",
    "nshare = pd.DataFrame(n_shared, columns = ['gene_one','gene_two', 'no_go_term_shared'])"
   ]
  },
  {
   "cell_type": "markdown",
   "metadata": {},
   "source": [
    "# read in inferred functinoal network"
   ]
  },
  {
   "cell_type": "code",
   "execution_count": 13,
   "metadata": {},
   "outputs": [],
   "source": [
    "network = pd.read_csv('../test_data/mutual_info.csv', index_col = 0)"
   ]
  },
  {
   "cell_type": "code",
   "execution_count": 14,
   "metadata": {},
   "outputs": [
    {
     "data": {
      "text/plain": [
       "<AxesSubplot:>"
      ]
     },
     "execution_count": 14,
     "metadata": {},
     "output_type": "execute_result"
    },
    {
     "data": {
      "image/png": "[encoded data removed]",
      "text/plain": [
       "<Figure size 432x288 with 1 Axes>"
      ]
     },
     "metadata": {
      "needs_background": "light"
     },
     "output_type": "display_data"
    }
   ],
   "source": [
    "network['mutual_info'].hist()"
   ]
  },
  {
   "cell_type": "code",
   "execution_count": 15,
   "metadata": {},
   "outputs": [
    {
     "data": {
      "text/html": [
       "<div>\n",
       "<style scoped>\n",
       "    .dataframe tbody tr th:only-of-type {\n",
       "        vertical-align: middle;\n",
       "    }\n",
       "\n",
       "    .dataframe tbody tr th {\n",
       "        vertical-align: top;\n",
       "    }\n",
       "\n",
       "    .dataframe thead th {\n",
       "        text-align: right;\n",
       "    }\n",
       "</style>\n",
       "<table border=\"1\" class=\"dataframe\">\n",
       "  <thead>\n",
       "    <tr style=\"text-align: right;\">\n",
       "      <th></th>\n",
       "      <th>gene_one</th>\n",
       "      <th>gene_two</th>\n",
       "      <th>no_go_term_shared</th>\n",
       "    </tr>\n",
       "  </thead>\n",
       "  <tbody>\n",
       "    <tr>\n",
       "      <th>0</th>\n",
       "      <td>18</td>\n",
       "      <td>39</td>\n",
       "      <td>2</td>\n",
       "    </tr>\n",
       "    <tr>\n",
       "      <th>1</th>\n",
       "      <td>18</td>\n",
       "      <td>30</td>\n",
       "      <td>2</td>\n",
       "    </tr>\n",
       "    <tr>\n",
       "      <th>2</th>\n",
       "      <td>18</td>\n",
       "      <td>19</td>\n",
       "      <td>2</td>\n",
       "    </tr>\n",
       "    <tr>\n",
       "      <th>3</th>\n",
       "      <td>13</td>\n",
       "      <td>18</td>\n",
       "      <td>2</td>\n",
       "    </tr>\n",
       "    <tr>\n",
       "      <th>4</th>\n",
       "      <td>18</td>\n",
       "      <td>20</td>\n",
       "      <td>2</td>\n",
       "    </tr>\n",
       "  </tbody>\n",
       "</table>\n",
       "</div>"
      ],
      "text/plain": [
       "   gene_one  gene_two  no_go_term_shared\n",
       "0        18        39                  2\n",
       "1        18        30                  2\n",
       "2        18        19                  2\n",
       "3        13        18                  2\n",
       "4        18        20                  2"
      ]
     },
     "execution_count": 15,
     "metadata": {},
     "output_type": "execute_result"
    }
   ],
   "source": [
    "nshare.head()"
   ]
  },
  {
   "cell_type": "code",
   "execution_count": 16,
   "metadata": {},
   "outputs": [],
   "source": [
    "benchmark = pd.merge(nshare, network, left_on = ['gene_one', 'gene_two'], right_on = ['gene_one', 'gene_two'])"
   ]
  },
  {
   "cell_type": "code",
   "execution_count": 17,
   "metadata": {},
   "outputs": [
    {
     "data": {
      "text/html": [
       "<div>\n",
       "<style scoped>\n",
       "    .dataframe tbody tr th:only-of-type {\n",
       "        vertical-align: middle;\n",
       "    }\n",
       "\n",
       "    .dataframe tbody tr th {\n",
       "        vertical-align: top;\n",
       "    }\n",
       "\n",
       "    .dataframe thead th {\n",
       "        text-align: right;\n",
       "    }\n",
       "</style>\n",
       "<table border=\"1\" class=\"dataframe\">\n",
       "  <thead>\n",
       "    <tr style=\"text-align: right;\">\n",
       "      <th></th>\n",
       "      <th>gene_one</th>\n",
       "      <th>gene_two</th>\n",
       "      <th>no_go_term_shared</th>\n",
       "      <th>mutual_info</th>\n",
       "    </tr>\n",
       "  </thead>\n",
       "  <tbody>\n",
       "    <tr>\n",
       "      <th>0</th>\n",
       "      <td>37</td>\n",
       "      <td>46</td>\n",
       "      <td>3</td>\n",
       "      <td>0.659678</td>\n",
       "    </tr>\n",
       "    <tr>\n",
       "      <th>1</th>\n",
       "      <td>31</td>\n",
       "      <td>37</td>\n",
       "      <td>3</td>\n",
       "      <td>0.698529</td>\n",
       "    </tr>\n",
       "    <tr>\n",
       "      <th>2</th>\n",
       "      <td>29</td>\n",
       "      <td>37</td>\n",
       "      <td>3</td>\n",
       "      <td>0.398655</td>\n",
       "    </tr>\n",
       "    <tr>\n",
       "      <th>3</th>\n",
       "      <td>24</td>\n",
       "      <td>37</td>\n",
       "      <td>3</td>\n",
       "      <td>0.574211</td>\n",
       "    </tr>\n",
       "    <tr>\n",
       "      <th>4</th>\n",
       "      <td>2</td>\n",
       "      <td>37</td>\n",
       "      <td>3</td>\n",
       "      <td>0.716142</td>\n",
       "    </tr>\n",
       "  </tbody>\n",
       "</table>\n",
       "</div>"
      ],
      "text/plain": [
       "   gene_one  gene_two  no_go_term_shared  mutual_info\n",
       "0        37        46                  3     0.659678\n",
       "1        31        37                  3     0.698529\n",
       "2        29        37                  3     0.398655\n",
       "3        24        37                  3     0.574211\n",
       "4         2        37                  3     0.716142"
      ]
     },
     "execution_count": 17,
     "metadata": {},
     "output_type": "execute_result"
    }
   ],
   "source": [
    "benchmark.head()"
   ]
  },
  {
   "cell_type": "code",
   "execution_count": 18,
   "metadata": {},
   "outputs": [
    {
     "data": {
      "text/plain": [
       "<AxesSubplot:>"
      ]
     },
     "execution_count": 18,
     "metadata": {},
     "output_type": "execute_result"
    },
    {
     "data": {
      "image/png": "[encoded data removed]",
      "text/plain": [
       "<Figure size 432x288 with 1 Axes>"
      ]
     },
     "metadata": {
      "needs_background": "light"
     },
     "output_type": "display_data"
    }
   ],
   "source": [
    "benchmark.iloc[:,2:].groupby('no_go_term_shared').boxplot(subplots = False, rot = 90)"
   ]
  },
  {
   "cell_type": "code",
   "execution_count": 19,
   "metadata": {},
   "outputs": [
    {
     "data": {
      "text/plain": [
       "<AxesSubplot:xlabel='no_go_term_shared', ylabel='mutual_info'>"
      ]
     },
     "execution_count": 19,
     "metadata": {},
     "output_type": "execute_result"
    },
    {
     "data": {
      "image/png": "[encoded data removed]",
      "text/plain": [
       "<Figure size 432x288 with 1 Axes>"
      ]
     },
     "metadata": {
      "needs_background": "light"
     },
     "output_type": "display_data"
    }
   ],
   "source": [
    "benchmark.plot(kind = 'scatter', x = 'no_go_term_shared', y = 'mutual_info')"
   ]
  },
  {
   "cell_type": "code",
   "execution_count": null,
   "metadata": {},
   "outputs": [],
   "source": []
  }
 ],
 "metadata": {
  "kernelspec": {
   "display_name": "Python 3",
   "language": "python",
   "name": "python3"
  },
  "language_info": {
   "codemirror_mode": {
    "name": "ipython",
    "version": 3
   },
   "file_extension": ".py",
   "mimetype": "text/x-python",
   "name": "python",
   "nbconvert_exporter": "python",
   "pygments_lexer": "ipython3",
   "version": "3.6.12"
  }
 },
 "nbformat": 4,
 "nbformat_minor": 4
}
